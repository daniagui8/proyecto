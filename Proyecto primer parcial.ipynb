{
 "cells": [
  {
   "cell_type": "markdown",
   "metadata": {},
   "source": [
    "# Problema para optimizar utilidades de empresa de autobuses\n",
    "\n",
    "###### Andrés Ramírez Villanueva  IF726061\n",
    "###### Daniela Aguilar Castaño\n",
    "###### Claudia Estefania Meza Fonseca IF729930\n"
   ]
  },
  {
   "cell_type": "markdown",
   "metadata": {},
   "source": [
    "# Planteamiento\n",
    "Un bus que hace un recorrido ofrece asientos para fumadores al precio de 10,000 y a no fumadores al precio de 6,000. A los no fumadores se les deja llevar 50 Kg de peso y a los fumadores 20 kg. Si el bus tiene 90 asientos y admite equipos de hasta 3000 kg, ¿Cuál es la oferta de asientos de la compañía para cada tipo de pasajero con la finalidad de optimizar su beneficio?\n",
    "Además debe considerarse por políticas de la empresa que deben ofrecerse como mínimo 10 asientos para NO fumadores."
   ]
  },
  {
   "cell_type": "markdown",
   "metadata": {},
   "source": [
    "# Procedimiento\n",
    "\n",
    "#### Variables a utilizar:\n",
    "\n",
    "x = Fumadores\n",
    "\n",
    "y = No fumadores\n",
    "\n",
    "###### NOTA: Dado que el algoritmo que maneja linprog nos pide que la función objetivo y las restricciones estén planteadas a manera de minimizar (lo cual no se busca, sino maximizar), se  harán cambios en los signos de estos que sean necesarios.\n",
    "\n",
    "#### Función objetivo: \n",
    "\n",
    "10,000x + 6,000y          //      -10,000x - 6,000y\n",
    "\n",
    "#### Restricciones:\n",
    "\n",
    "x + y ≤ 90\n",
    " \n",
    "50 y + 20 x ≤ 3000\n",
    "\n",
    "y ≥ 10                 \n",
    "###### -y ≤ -10 (Restricción a tomar en cuenta)\n",
    "\n",
    "\n",
    "\n",
    "x ≥ 0                  \n",
    "###### - x ≤ 0  (Restricción a tomar en cuenta)\n",
    "\n",
    "Con los datos de la función objetivo y las restricciones se contruyen 3 matrices para lograr obtener el resultado, estas serán:\n",
    "\n",
    "Matriz A: Para las variables de las restricciones.\n",
    "\n",
    "- $\\boldsymbol{A}=\\left[\\begin{array}{cc}1 & 1 \\\\ 20 & 50\\\\ 0 & -1\\\\ -1 & 0\\end{array}\\right]$\n",
    "\n",
    "\n",
    "Matriz B: Limitantes de las resricciones.\n",
    "\n",
    "- $\\boldsymbol{B}=\\left[\\begin{array}{cc}90\\\\ 3000\\\\ -10\\\\ 0\\end{array}\\right]$\n",
    "\n",
    "Vector C: Las constantes que acompañan a las variables en la función objetivo.\n",
    "\n",
    "- $\\boldsymbol{C}=\\left[\\begin{array}{cc}-10000 & -6000\\end{array}\\right]$\n",
    "\n",
    "\n",
    "Una vez mencionado todo lo anterior procederemos al código.\n"
   ]
  },
  {
   "cell_type": "markdown",
   "metadata": {},
   "source": [
    "# Código"
   ]
  },
  {
   "cell_type": "code",
   "execution_count": 2,
   "metadata": {},
   "outputs": [],
   "source": [
    "# Importar numpy para crear las matrices\n",
    "import scipy.optimize as opt\n",
    "import numpy as np"
   ]
  },
  {
   "cell_type": "code",
   "execution_count": 19,
   "metadata": {},
   "outputs": [],
   "source": [
    "# Crear las matrices para resolver el problema\n",
    "\n",
    "A=np.array([[1,1],[20,50],[0,-1],[-1,0]])\n",
    "B=np.array([90,3000,-10,0])\n",
    "C=np.array([-10000,-6000])\n",
    "\n",
    "# Resolver utilizando linprog\n",
    "sol=opt.linprog(C,A,B)\n"
   ]
  },
  {
   "cell_type": "code",
   "execution_count": 20,
   "metadata": {},
   "outputs": [
    {
     "data": {
      "text/plain": [
       "array([79.99999998, 10.        ])"
      ]
     },
     "execution_count": 20,
     "metadata": {},
     "output_type": "execute_result"
    }
   ],
   "source": [
    "# Extraer el vector solución\n",
    "(sol.x)"
   ]
  },
  {
   "cell_type": "code",
   "execution_count": 21,
   "metadata": {},
   "outputs": [
    {
     "data": {
      "text/plain": [
       "859999.999798168"
      ]
     },
     "execution_count": 21,
     "metadata": {},
     "output_type": "execute_result"
    }
   ],
   "source": [
    "sol.fun*(-1)   #Solución evaluada en la función objetivo"
   ]
  },
  {
   "cell_type": "markdown",
   "metadata": {},
   "source": [
    "Dado lo anterior sabemos que se deben vender 80 asientos para fumadores y 10 para los NO fumadores"
   ]
  },
  {
   "cell_type": "markdown",
   "metadata": {},
   "source": [
    "# Conclusión\n",
    "\n",
    "Por medio del análisis previo en el cual se planteó el problema y por medio de programación lineal se logró llevar a cabo el problema, se construyeron dos matrices y un vector los cuales contienen información como las condiciones que presentan las restricciones y la función objetivo.\n",
    "\n",
    "Gracias a la libreria de linprog no fue necesario llevar un desarrollo gráfico que además de ser más largo no es tan preciso como el que se llevó a cabo en este trabajo.\n",
    "\n",
    "Algo que es importante mencionar y que se aprendió durante clase al practicar en clase es que en caso de necesitar igualdades dentro de las restricciones estas no se colocan dentro de la matriz donde están las demás, se deben generar otras dos que a su vez se anexan a la parte del código donde se ejecuta la función de linprog."
   ]
  }
 ],
 "metadata": {
  "kernelspec": {
   "display_name": "Python 3",
   "language": "python",
   "name": "python3"
  },
  "language_info": {
   "codemirror_mode": {
    "name": "ipython",
    "version": 3
   },
   "file_extension": ".py",
   "mimetype": "text/x-python",
   "name": "python",
   "nbconvert_exporter": "python",
   "pygments_lexer": "ipython3",
   "version": "3.7.4"
  }
 },
 "nbformat": 4,
 "nbformat_minor": 2
}
m
